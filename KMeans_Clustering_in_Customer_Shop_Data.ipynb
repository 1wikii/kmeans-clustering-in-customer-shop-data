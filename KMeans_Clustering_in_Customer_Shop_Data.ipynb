{
  "nbformat": 4,
  "nbformat_minor": 0,
  "metadata": {
    "colab": {
      "provenance": [],
      "authorship_tag": "ABX9TyMCGv7wJRV0MeTO7SB+mtx2",
      "include_colab_link": true
    },
    "kernelspec": {
      "name": "python3",
      "display_name": "Python 3"
    },
    "language_info": {
      "name": "python"
    }
  },
  "cells": [
    {
      "cell_type": "markdown",
      "metadata": {
        "id": "view-in-github",
        "colab_type": "text"
      },
      "source": [
        "<a href=\"https://colab.research.google.com/github/1wikii/kmeans-clustering-in-customer-shop-data/blob/main/KMeans_Clustering_in_Customer_Shop_Data.ipynb\" target=\"_parent\"><img src=\"https://colab.research.google.com/assets/colab-badge.svg\" alt=\"Open In Colab\"/></a>"
      ]
    },
    {
      "cell_type": "markdown",
      "source": [
        "# KMeans Clustering in Customer Shop Data\n",
        "---"
      ],
      "metadata": {
        "id": "ot6bKxYuz06S"
      }
    },
    {
      "cell_type": "markdown",
      "source": [
        "### Nama Anggota Kelompok\n",
        "```\n",
        "121140044   Ahmad Dwiky Zerro Dixxon\n",
        "121140067   Daris Fikri Zhalifunnas\n",
        "121140098   Benedictus Budhi Dharmawan\n",
        "```"
      ],
      "metadata": {
        "id": "3WjjfxXH0F8r"
      }
    },
    {
      "cell_type": "markdown",
      "source": [
        "## Tujuan\n",
        "\n",
        "> * Melakukan clustering atau pengelompokkan data-data yang memiliki prilaku mirip pada konteks dataset _Customer Shop Data_ untuk dicari korealasi antara jam Pemasukan tahunan ($) dengan Pengeluaran"
      ],
      "metadata": {
        "id": "YFG8iBHNHWv_"
      }
    },
    {
      "cell_type": "markdown",
      "source": [
        "# Pengenalan KMeans Clustering\n",
        "\n",
        ">Algoritma Unsupervised Learning umumnya dibagi menjadi dua tipe: Supervised learning dan Unsupervised learning. Namun, sebagian besar algoritma diklasifikasikan sebagai Supervised learning dan Unsupervised learning. Perbedaan di antara keduanya disebabkan oleh keberadaan variabel target. Tidak ada variabel target dalam pembelajaran tanpa pengawasan. Dataset hanya berisi variabel input yang menggambarkan data. Ini dikenal sebagai Unsupervised learning.\n",
        "\n",
        "-\n",
        ">Algoritma pembelajaran tanpa pengawasan yang paling sering digunakan adalah K-Means clustering. Ini digunakan ketika kita memiliki data tanpa label, yaitu data yang tidak memiliki kategori atau kelompok yang jelas. Teknik ini menggunakan metode yang sederhana atau dasar untuk mengelompokkan suatu set data dengan jumlah cluster yang telah ditentukan. Berdasarkan atribut yang diberikan, algoritma K-Means secara iteratif menetapkan setiap titik data ke salah satu dari K kelompok. Pengelompokan titik data didasarkan pada kemiripan fitur."
      ],
      "metadata": {
        "id": "IKnRnADm174A"
      }
    },
    {
      "cell_type": "markdown",
      "source": [
        "### Import Library\n",
        ">**numpy**\n",
        ">> Library yang menyediakan operasi linear algebra yang akan dipakai pada kali ini\n",
        "\n",
        "\n",
        ">**pandas**\n",
        ">> Library yang menyediakan tentang fungsional untuk pemrosesan data\n",
        "\n",
        "\n",
        ">**matplotlib.pyplot**\n",
        ">> Library yang menyediakan fungsi untuk menampilkan data dalam bentuk visualisasi\n",
        "\n",
        "\n",
        ">**seaborn**\n",
        ">> Library yang menyediakan fungsi untuk menampilkan data dalam bentuk visualisasi juga tetapi memiliki tampilan yang lebih menarik"
      ],
      "metadata": {
        "id": "fTWOof-ebuhZ"
      }
    },
    {
      "cell_type": "code",
      "execution_count": 25,
      "metadata": {
        "id": "OlsTz5FWy0dp"
      },
      "outputs": [],
      "source": [
        "import numpy as np\n",
        "import pandas as pd\n",
        "import matplotlib.pyplot as plt\n",
        "import seaborn as sns"
      ]
    },
    {
      "cell_type": "code",
      "source": [
        "import warnings\n",
        "warnings.filterwarnings(\"ignore\")"
      ],
      "metadata": {
        "id": "gXqj0-mRhoNp"
      },
      "execution_count": 26,
      "outputs": []
    },
    {
      "cell_type": "markdown",
      "source": [
        "### Import Dataset\n",
        ">Membaca dataset dari github menggunakan salah satu fungsi modul pandas\n",
        "\n",
        "\n",
        ">**pandas.read_csv**"
      ],
      "metadata": {
        "id": "qAvBWE5gGN6n"
      }
    },
    {
      "cell_type": "code",
      "source": [
        "data = \"https://raw.githubusercontent.com/1wikii/kmeans-clustering-in-customer-shop-data/main/Shop_Customer_Data.csv\"\n",
        "\n",
        "df = pd.read_csv(data)"
      ],
      "metadata": {
        "id": "ZBLtfAwi4gWC"
      },
      "execution_count": 27,
      "outputs": []
    },
    {
      "cell_type": "markdown",
      "source": [
        "## Menampilkan Sample Dataset\n",
        ">Menggunakan fungsi **head** bernilai 10 untuk menampilkan 10 data pertama pada row dataset"
      ],
      "metadata": {
        "id": "1rUT07onh86p"
      }
    },
    {
      "cell_type": "code",
      "source": [
        "df.head(10)"
      ],
      "metadata": {
        "colab": {
          "base_uri": "https://localhost:8080/",
          "height": 363
        },
        "id": "WWKFI4rmh6Y5",
        "outputId": "22d03e04-efdb-48f2-ca09-a8d4819732b2"
      },
      "execution_count": 28,
      "outputs": [
        {
          "output_type": "execute_result",
          "data": {
            "text/plain": [
              "   CustomerID  Gender  Age  Annual Income ($)  Spending Score (1-100)  \\\n",
              "0           1    Male   19              15000                      39   \n",
              "1           2    Male   21              35000                      81   \n",
              "2           3  Female   20              86000                       6   \n",
              "3           4  Female   23              59000                      77   \n",
              "4           5  Female   31              38000                      40   \n",
              "5           6  Female   22              58000                      76   \n",
              "6           7  Female   35              31000                       6   \n",
              "7           8  Female   23              84000                      94   \n",
              "8           9    Male   64              97000                       3   \n",
              "9          10  Female   30              98000                      72   \n",
              "\n",
              "      Profession  Work Experience  Family Size  \n",
              "0     Healthcare                1            4  \n",
              "1       Engineer                3            3  \n",
              "2       Engineer                1            1  \n",
              "3         Lawyer                0            2  \n",
              "4  Entertainment                2            6  \n",
              "5         Artist                0            2  \n",
              "6     Healthcare                1            3  \n",
              "7     Healthcare                1            3  \n",
              "8       Engineer                0            3  \n",
              "9         Artist                1            4  "
            ],
            "text/html": [
              "\n",
              "  <div id=\"df-f753383a-1f90-4d02-90f0-cb628170c419\" class=\"colab-df-container\">\n",
              "    <div>\n",
              "<style scoped>\n",
              "    .dataframe tbody tr th:only-of-type {\n",
              "        vertical-align: middle;\n",
              "    }\n",
              "\n",
              "    .dataframe tbody tr th {\n",
              "        vertical-align: top;\n",
              "    }\n",
              "\n",
              "    .dataframe thead th {\n",
              "        text-align: right;\n",
              "    }\n",
              "</style>\n",
              "<table border=\"1\" class=\"dataframe\">\n",
              "  <thead>\n",
              "    <tr style=\"text-align: right;\">\n",
              "      <th></th>\n",
              "      <th>CustomerID</th>\n",
              "      <th>Gender</th>\n",
              "      <th>Age</th>\n",
              "      <th>Annual Income ($)</th>\n",
              "      <th>Spending Score (1-100)</th>\n",
              "      <th>Profession</th>\n",
              "      <th>Work Experience</th>\n",
              "      <th>Family Size</th>\n",
              "    </tr>\n",
              "  </thead>\n",
              "  <tbody>\n",
              "    <tr>\n",
              "      <th>0</th>\n",
              "      <td>1</td>\n",
              "      <td>Male</td>\n",
              "      <td>19</td>\n",
              "      <td>15000</td>\n",
              "      <td>39</td>\n",
              "      <td>Healthcare</td>\n",
              "      <td>1</td>\n",
              "      <td>4</td>\n",
              "    </tr>\n",
              "    <tr>\n",
              "      <th>1</th>\n",
              "      <td>2</td>\n",
              "      <td>Male</td>\n",
              "      <td>21</td>\n",
              "      <td>35000</td>\n",
              "      <td>81</td>\n",
              "      <td>Engineer</td>\n",
              "      <td>3</td>\n",
              "      <td>3</td>\n",
              "    </tr>\n",
              "    <tr>\n",
              "      <th>2</th>\n",
              "      <td>3</td>\n",
              "      <td>Female</td>\n",
              "      <td>20</td>\n",
              "      <td>86000</td>\n",
              "      <td>6</td>\n",
              "      <td>Engineer</td>\n",
              "      <td>1</td>\n",
              "      <td>1</td>\n",
              "    </tr>\n",
              "    <tr>\n",
              "      <th>3</th>\n",
              "      <td>4</td>\n",
              "      <td>Female</td>\n",
              "      <td>23</td>\n",
              "      <td>59000</td>\n",
              "      <td>77</td>\n",
              "      <td>Lawyer</td>\n",
              "      <td>0</td>\n",
              "      <td>2</td>\n",
              "    </tr>\n",
              "    <tr>\n",
              "      <th>4</th>\n",
              "      <td>5</td>\n",
              "      <td>Female</td>\n",
              "      <td>31</td>\n",
              "      <td>38000</td>\n",
              "      <td>40</td>\n",
              "      <td>Entertainment</td>\n",
              "      <td>2</td>\n",
              "      <td>6</td>\n",
              "    </tr>\n",
              "    <tr>\n",
              "      <th>5</th>\n",
              "      <td>6</td>\n",
              "      <td>Female</td>\n",
              "      <td>22</td>\n",
              "      <td>58000</td>\n",
              "      <td>76</td>\n",
              "      <td>Artist</td>\n",
              "      <td>0</td>\n",
              "      <td>2</td>\n",
              "    </tr>\n",
              "    <tr>\n",
              "      <th>6</th>\n",
              "      <td>7</td>\n",
              "      <td>Female</td>\n",
              "      <td>35</td>\n",
              "      <td>31000</td>\n",
              "      <td>6</td>\n",
              "      <td>Healthcare</td>\n",
              "      <td>1</td>\n",
              "      <td>3</td>\n",
              "    </tr>\n",
              "    <tr>\n",
              "      <th>7</th>\n",
              "      <td>8</td>\n",
              "      <td>Female</td>\n",
              "      <td>23</td>\n",
              "      <td>84000</td>\n",
              "      <td>94</td>\n",
              "      <td>Healthcare</td>\n",
              "      <td>1</td>\n",
              "      <td>3</td>\n",
              "    </tr>\n",
              "    <tr>\n",
              "      <th>8</th>\n",
              "      <td>9</td>\n",
              "      <td>Male</td>\n",
              "      <td>64</td>\n",
              "      <td>97000</td>\n",
              "      <td>3</td>\n",
              "      <td>Engineer</td>\n",
              "      <td>0</td>\n",
              "      <td>3</td>\n",
              "    </tr>\n",
              "    <tr>\n",
              "      <th>9</th>\n",
              "      <td>10</td>\n",
              "      <td>Female</td>\n",
              "      <td>30</td>\n",
              "      <td>98000</td>\n",
              "      <td>72</td>\n",
              "      <td>Artist</td>\n",
              "      <td>1</td>\n",
              "      <td>4</td>\n",
              "    </tr>\n",
              "  </tbody>\n",
              "</table>\n",
              "</div>\n",
              "    <div class=\"colab-df-buttons\">\n",
              "\n",
              "  <div class=\"colab-df-container\">\n",
              "    <button class=\"colab-df-convert\" onclick=\"convertToInteractive('df-f753383a-1f90-4d02-90f0-cb628170c419')\"\n",
              "            title=\"Convert this dataframe to an interactive table.\"\n",
              "            style=\"display:none;\">\n",
              "\n",
              "  <svg xmlns=\"http://www.w3.org/2000/svg\" height=\"24px\" viewBox=\"0 -960 960 960\">\n",
              "    <path d=\"M120-120v-720h720v720H120Zm60-500h600v-160H180v160Zm220 220h160v-160H400v160Zm0 220h160v-160H400v160ZM180-400h160v-160H180v160Zm440 0h160v-160H620v160ZM180-180h160v-160H180v160Zm440 0h160v-160H620v160Z\"/>\n",
              "  </svg>\n",
              "    </button>\n",
              "\n",
              "  <style>\n",
              "    .colab-df-container {\n",
              "      display:flex;\n",
              "      gap: 12px;\n",
              "    }\n",
              "\n",
              "    .colab-df-convert {\n",
              "      background-color: #E8F0FE;\n",
              "      border: none;\n",
              "      border-radius: 50%;\n",
              "      cursor: pointer;\n",
              "      display: none;\n",
              "      fill: #1967D2;\n",
              "      height: 32px;\n",
              "      padding: 0 0 0 0;\n",
              "      width: 32px;\n",
              "    }\n",
              "\n",
              "    .colab-df-convert:hover {\n",
              "      background-color: #E2EBFA;\n",
              "      box-shadow: 0px 1px 2px rgba(60, 64, 67, 0.3), 0px 1px 3px 1px rgba(60, 64, 67, 0.15);\n",
              "      fill: #174EA6;\n",
              "    }\n",
              "\n",
              "    .colab-df-buttons div {\n",
              "      margin-bottom: 4px;\n",
              "    }\n",
              "\n",
              "    [theme=dark] .colab-df-convert {\n",
              "      background-color: #3B4455;\n",
              "      fill: #D2E3FC;\n",
              "    }\n",
              "\n",
              "    [theme=dark] .colab-df-convert:hover {\n",
              "      background-color: #434B5C;\n",
              "      box-shadow: 0px 1px 3px 1px rgba(0, 0, 0, 0.15);\n",
              "      filter: drop-shadow(0px 1px 2px rgba(0, 0, 0, 0.3));\n",
              "      fill: #FFFFFF;\n",
              "    }\n",
              "  </style>\n",
              "\n",
              "    <script>\n",
              "      const buttonEl =\n",
              "        document.querySelector('#df-f753383a-1f90-4d02-90f0-cb628170c419 button.colab-df-convert');\n",
              "      buttonEl.style.display =\n",
              "        google.colab.kernel.accessAllowed ? 'block' : 'none';\n",
              "\n",
              "      async function convertToInteractive(key) {\n",
              "        const element = document.querySelector('#df-f753383a-1f90-4d02-90f0-cb628170c419');\n",
              "        const dataTable =\n",
              "          await google.colab.kernel.invokeFunction('convertToInteractive',\n",
              "                                                    [key], {});\n",
              "        if (!dataTable) return;\n",
              "\n",
              "        const docLinkHtml = 'Like what you see? Visit the ' +\n",
              "          '<a target=\"_blank\" href=https://colab.research.google.com/notebooks/data_table.ipynb>data table notebook</a>'\n",
              "          + ' to learn more about interactive tables.';\n",
              "        element.innerHTML = '';\n",
              "        dataTable['output_type'] = 'display_data';\n",
              "        await google.colab.output.renderOutput(dataTable, element);\n",
              "        const docLink = document.createElement('div');\n",
              "        docLink.innerHTML = docLinkHtml;\n",
              "        element.appendChild(docLink);\n",
              "      }\n",
              "    </script>\n",
              "  </div>\n",
              "\n",
              "\n",
              "<div id=\"df-60424ad4-c0b0-490f-9a6c-f80a6bf51250\">\n",
              "  <button class=\"colab-df-quickchart\" onclick=\"quickchart('df-60424ad4-c0b0-490f-9a6c-f80a6bf51250')\"\n",
              "            title=\"Suggest charts\"\n",
              "            style=\"display:none;\">\n",
              "\n",
              "<svg xmlns=\"http://www.w3.org/2000/svg\" height=\"24px\"viewBox=\"0 0 24 24\"\n",
              "     width=\"24px\">\n",
              "    <g>\n",
              "        <path d=\"M19 3H5c-1.1 0-2 .9-2 2v14c0 1.1.9 2 2 2h14c1.1 0 2-.9 2-2V5c0-1.1-.9-2-2-2zM9 17H7v-7h2v7zm4 0h-2V7h2v10zm4 0h-2v-4h2v4z\"/>\n",
              "    </g>\n",
              "</svg>\n",
              "  </button>\n",
              "\n",
              "<style>\n",
              "  .colab-df-quickchart {\n",
              "      --bg-color: #E8F0FE;\n",
              "      --fill-color: #1967D2;\n",
              "      --hover-bg-color: #E2EBFA;\n",
              "      --hover-fill-color: #174EA6;\n",
              "      --disabled-fill-color: #AAA;\n",
              "      --disabled-bg-color: #DDD;\n",
              "  }\n",
              "\n",
              "  [theme=dark] .colab-df-quickchart {\n",
              "      --bg-color: #3B4455;\n",
              "      --fill-color: #D2E3FC;\n",
              "      --hover-bg-color: #434B5C;\n",
              "      --hover-fill-color: #FFFFFF;\n",
              "      --disabled-bg-color: #3B4455;\n",
              "      --disabled-fill-color: #666;\n",
              "  }\n",
              "\n",
              "  .colab-df-quickchart {\n",
              "    background-color: var(--bg-color);\n",
              "    border: none;\n",
              "    border-radius: 50%;\n",
              "    cursor: pointer;\n",
              "    display: none;\n",
              "    fill: var(--fill-color);\n",
              "    height: 32px;\n",
              "    padding: 0;\n",
              "    width: 32px;\n",
              "  }\n",
              "\n",
              "  .colab-df-quickchart:hover {\n",
              "    background-color: var(--hover-bg-color);\n",
              "    box-shadow: 0 1px 2px rgba(60, 64, 67, 0.3), 0 1px 3px 1px rgba(60, 64, 67, 0.15);\n",
              "    fill: var(--button-hover-fill-color);\n",
              "  }\n",
              "\n",
              "  .colab-df-quickchart-complete:disabled,\n",
              "  .colab-df-quickchart-complete:disabled:hover {\n",
              "    background-color: var(--disabled-bg-color);\n",
              "    fill: var(--disabled-fill-color);\n",
              "    box-shadow: none;\n",
              "  }\n",
              "\n",
              "  .colab-df-spinner {\n",
              "    border: 2px solid var(--fill-color);\n",
              "    border-color: transparent;\n",
              "    border-bottom-color: var(--fill-color);\n",
              "    animation:\n",
              "      spin 1s steps(1) infinite;\n",
              "  }\n",
              "\n",
              "  @keyframes spin {\n",
              "    0% {\n",
              "      border-color: transparent;\n",
              "      border-bottom-color: var(--fill-color);\n",
              "      border-left-color: var(--fill-color);\n",
              "    }\n",
              "    20% {\n",
              "      border-color: transparent;\n",
              "      border-left-color: var(--fill-color);\n",
              "      border-top-color: var(--fill-color);\n",
              "    }\n",
              "    30% {\n",
              "      border-color: transparent;\n",
              "      border-left-color: var(--fill-color);\n",
              "      border-top-color: var(--fill-color);\n",
              "      border-right-color: var(--fill-color);\n",
              "    }\n",
              "    40% {\n",
              "      border-color: transparent;\n",
              "      border-right-color: var(--fill-color);\n",
              "      border-top-color: var(--fill-color);\n",
              "    }\n",
              "    60% {\n",
              "      border-color: transparent;\n",
              "      border-right-color: var(--fill-color);\n",
              "    }\n",
              "    80% {\n",
              "      border-color: transparent;\n",
              "      border-right-color: var(--fill-color);\n",
              "      border-bottom-color: var(--fill-color);\n",
              "    }\n",
              "    90% {\n",
              "      border-color: transparent;\n",
              "      border-bottom-color: var(--fill-color);\n",
              "    }\n",
              "  }\n",
              "</style>\n",
              "\n",
              "  <script>\n",
              "    async function quickchart(key) {\n",
              "      const quickchartButtonEl =\n",
              "        document.querySelector('#' + key + ' button');\n",
              "      quickchartButtonEl.disabled = true;  // To prevent multiple clicks.\n",
              "      quickchartButtonEl.classList.add('colab-df-spinner');\n",
              "      try {\n",
              "        const charts = await google.colab.kernel.invokeFunction(\n",
              "            'suggestCharts', [key], {});\n",
              "      } catch (error) {\n",
              "        console.error('Error during call to suggestCharts:', error);\n",
              "      }\n",
              "      quickchartButtonEl.classList.remove('colab-df-spinner');\n",
              "      quickchartButtonEl.classList.add('colab-df-quickchart-complete');\n",
              "    }\n",
              "    (() => {\n",
              "      let quickchartButtonEl =\n",
              "        document.querySelector('#df-60424ad4-c0b0-490f-9a6c-f80a6bf51250 button');\n",
              "      quickchartButtonEl.style.display =\n",
              "        google.colab.kernel.accessAllowed ? 'block' : 'none';\n",
              "    })();\n",
              "  </script>\n",
              "</div>\n",
              "    </div>\n",
              "  </div>\n"
            ]
          },
          "metadata": {},
          "execution_count": 28
        }
      ]
    },
    {
      "cell_type": "markdown",
      "source": [
        "### Pemilihan Kolom yang dipakai\n",
        ">Hanya memilih kolom _Income_ dan _Spending_ agar mempermudah dalam pemilihan fitur"
      ],
      "metadata": {
        "id": "YovJK1cRiMBk"
      }
    },
    {
      "cell_type": "code",
      "source": [
        "df = df[['Annual Income ($)','Spending Score (1-100)']]"
      ],
      "metadata": {
        "id": "nJcgJHLvK04I"
      },
      "execution_count": 29,
      "outputs": []
    },
    {
      "cell_type": "markdown",
      "source": [
        "### Bentuk _dataframe_\n",
        ">Menampilkan banyak row data dan kolom data"
      ],
      "metadata": {
        "id": "MD9tdwVZjoC0"
      }
    },
    {
      "cell_type": "code",
      "source": [
        "df.shape"
      ],
      "metadata": {
        "id": "T1drFzC_4mUx",
        "outputId": "849d5a9d-656a-4b30-a55f-9dd2d4d9d9ae",
        "colab": {
          "base_uri": "https://localhost:8080/"
        }
      },
      "execution_count": 30,
      "outputs": [
        {
          "output_type": "execute_result",
          "data": {
            "text/plain": [
              "(2000, 2)"
            ]
          },
          "metadata": {},
          "execution_count": 30
        }
      ]
    },
    {
      "cell_type": "markdown",
      "source": [
        "### Informasi\n",
        ">Menampilkan informasi tentang _dataframe_ untuk melihat apakah ada nilai null dalam row data"
      ],
      "metadata": {
        "id": "aYZuu3jtjzye"
      }
    },
    {
      "cell_type": "code",
      "source": [
        "df.info(10)"
      ],
      "metadata": {
        "id": "EeipQOP24mfp",
        "outputId": "19763f5f-10c3-4d7f-fcbb-619d3436ba6e",
        "colab": {
          "base_uri": "https://localhost:8080/"
        }
      },
      "execution_count": 31,
      "outputs": [
        {
          "output_type": "stream",
          "name": "stdout",
          "text": [
            "<class 'pandas.core.frame.DataFrame'>\n",
            "RangeIndex: 2000 entries, 0 to 1999\n",
            "Data columns (total 2 columns):\n",
            " #   Column                  Non-Null Count  Dtype\n",
            "---  ------                  --------------  -----\n",
            " 0   Annual Income ($)       2000 non-null   int64\n",
            " 1   Spending Score (1-100)  2000 non-null   int64\n",
            "dtypes: int64(2)\n",
            "memory usage: 31.4 KB\n"
          ]
        }
      ]
    },
    {
      "cell_type": "markdown",
      "source": [
        "## Memilih Fitur untuk Model\n",
        ">Pada konteks dataset _Customer Shop Data_ memilih kolom _Income_ dan _Spending_ saja yang akan dijadikan sebagai fitur\n",
        "\n",
        "\n",
        ">Pada dataset ini tidak ada label sama sekali dalam pemilihan fitur\n",
        "\n",
        "\n",
        ">Alasan memilih _Income_ dan _Spending_ sebagai fitur dikarenakan kedua aspek tersebut sangat kuat berkaitan yang akan menentukan prilaku customer/pelanggan sehingga dapat dijadikam sebagai fitur untuk menjadi tolak ukur"
      ],
      "metadata": {
        "id": "XvIFbhjWkR8G"
      }
    },
    {
      "cell_type": "code",
      "source": [
        "X= df.iloc[:, [0,1]].values"
      ],
      "metadata": {
        "id": "S4XN_NVA4yHY"
      },
      "execution_count": 32,
      "outputs": []
    },
    {
      "cell_type": "markdown",
      "source": [
        "### Membuat Model\n",
        ">Menggunakan algoritma KMeans untuk menentukan jumlah cluster maximal\n",
        "\n",
        ">Menggunakan KMeans++ dengan metode siku untuk menentukan nilai K pada KMeans\n",
        "\n",
        ">Menggunakan metode siku untuk menghitung KMeans++\n",
        "\n",
        ">Menggunakan asumsi bahwa jumlah cluster maximal yang akan tercipta adalah 10\n",
        "\n",
        ">Asumsi jumlah cluster maximal diatas dapat diprediksi dengan melakukan perataan"
      ],
      "metadata": {
        "id": "fCuw-dzPknNt"
      }
    },
    {
      "cell_type": "code",
      "source": [
        "from sklearn.cluster import KMeans\n",
        "wcss=[]\n",
        "\n",
        "for i in range(1,11):\n",
        "    kmeans = KMeans(n_clusters= i, init='k-means++', random_state=0)\n",
        "    kmeans.fit(X)\n",
        "    wcss.append(kmeans.inertia_)"
      ],
      "metadata": {
        "id": "N3HbR50e4yKF"
      },
      "execution_count": 33,
      "outputs": []
    },
    {
      "cell_type": "markdown",
      "source": [
        "### Visualisasi Metode Siku\n",
        ">Menentukan nilai maximal dari K"
      ],
      "metadata": {
        "id": "Wl5a_IbWnhsS"
      }
    },
    {
      "cell_type": "markdown",
      "source": [
        "### Mengidentifikasi Visualisasi Metode Siku untuk Nilai K\n",
        ">Menentukan nilai maximal dari K dengan melihat lengkungan graph yang siginifikan yang ketika di zoom out akan terlihat seperti bentuk siku kita\n",
        "\n",
        ">Hasil identifikasi ditemukan lengkungan berada pada **3**, jadi **K = 3**"
      ],
      "metadata": {
        "id": "KHpBbRNyn2uy"
      }
    },
    {
      "cell_type": "code",
      "source": [
        "plt.plot(range(1,11), wcss)\n",
        "plt.title('The Elbow Method')\n",
        "plt.xlabel('no of clusters')\n",
        "plt.ylabel('wcss')\n",
        "plt.show()"
      ],
      "metadata": {
        "id": "URRJZjac4yNL",
        "colab": {
          "base_uri": "https://localhost:8080/",
          "height": 472
        },
        "outputId": "671d8076-33ac-42b5-bc14-e39e97a365a8"
      },
      "execution_count": 34,
      "outputs": [
        {
          "output_type": "display_data",
          "data": {
            "text/plain": [
              "<Figure size 640x480 with 1 Axes>"
            ],
            "image/png": "[encoded data removed]"
          },
          "metadata": {}
        }
      ]
    },
    {
      "cell_type": "markdown",
      "source": [
        "### Membuat Final Model\n",
        ">Isikan nilai maximal K dari sebelumnya ke _n_clusters_\n",
        "\n",
        ">_y_kmeans_ merupakan final model\n"
      ],
      "metadata": {
        "id": "YrVeAvyKojxU"
      }
    },
    {
      "cell_type": "code",
      "source": [
        "kmeansmodel = KMeans(n_clusters= 3, init='k-means++', random_state=0)\n",
        "y_kmeans= kmeansmodel.fit_predict(X)"
      ],
      "metadata": {
        "id": "AKUqETDH4ybf"
      },
      "execution_count": 35,
      "outputs": []
    },
    {
      "cell_type": "markdown",
      "source": [
        "### Menampilkan semua Cluster\n",
        ">Menggunakan **matplotlib.pyplot** untuk memvisualisasikan semua cluster yang ada"
      ],
      "metadata": {
        "id": "5AWw0sM7pF8s"
      }
    },
    {
      "cell_type": "code",
      "source": [
        "plt.scatter(X[y_kmeans == 0, 0], X[y_kmeans == 0, 1], s = 100, c = 'red', label = 'Cluster 1')\n",
        "plt.scatter(X[y_kmeans == 1, 0], X[y_kmeans == 1, 1], s = 100, c = 'blue', label = 'Cluster 2')\n",
        "plt.scatter(X[y_kmeans == 2, 0], X[y_kmeans == 2, 1], s = 100, c = 'green', label = 'Cluster 3')\n",
        "plt.scatter(kmeans.cluster_centers_[:, 0], kmeans.cluster_centers_[:, 1], s = 300, c = 'yellow', label = 'Centroids')\n",
        "plt.title('Clusters of customers')\n",
        "plt.xlabel('Annual Income ($)')\n",
        "plt.ylabel('Spending Score (1-100)')\n",
        "plt.legend()\n",
        "plt.show()"
      ],
      "metadata": {
        "id": "QX41HWAB4ygu",
        "colab": {
          "base_uri": "https://localhost:8080/",
          "height": 472
        },
        "outputId": "6209b054-d0e2-4a03-d780-6b310b599105"
      },
      "execution_count": 36,
      "outputs": [
        {
          "output_type": "display_data",
          "data": {
            "text/plain": [
              "<Figure size 640x480 with 1 Axes>"
            ],
            "image/png": "[encoded data removed]"
          },
          "metadata": {}
        }
      ]
    },
    {
      "cell_type": "markdown",
      "source": [
        "### Interpretasi Model\n",
        "#Cluster 1 (Green Color) -> Penghasilan kecil dengan pengeluaran merata\n",
        "#cluster 2 (Blue Color) -> Penghasilan sedang dengan pengeluaran merata\n",
        "#cluster 3 (Red Color) -> Penghasilan tinggi dengan pengeluaran merata\n"
      ],
      "metadata": {
        "id": "lPHIso4o5E2g"
      }
    }
  ]
}