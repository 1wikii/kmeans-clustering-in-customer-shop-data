{
  "nbformat": 4,
  "nbformat_minor": 0,
  "metadata": {
    "colab": {
      "provenance": [],
      "authorship_tag": "ABX9TyOk8vJLK+SLoXFW7q2V9xoj",
      "include_colab_link": true
    },
    "kernelspec": {
      "name": "python3",
      "display_name": "Python 3"
    },
    "language_info": {
      "name": "python"
    }
  },
  "cells": [
    {
      "cell_type": "markdown",
      "metadata": {
        "id": "view-in-github",
        "colab_type": "text"
      },
      "source": [
        "<a href=\"https://colab.research.google.com/github/1wikii/kmeans-clustering-in-student-stress_factors/blob/main/KMeans_Clustering_in_Student_Stress_Factors.ipynb\" target=\"_parent\"><img src=\"https://colab.research.google.com/assets/colab-badge.svg\" alt=\"Open In Colab\"/></a>"
      ]
    },
    {
      "cell_type": "markdown",
      "source": [
        "# KMeans Clustering in Student Stress Factors"
      ],
      "metadata": {
        "id": "ot6bKxYuz06S"
      }
    },
    {
      "cell_type": "markdown",
      "source": [
        "---"
      ],
      "metadata": {
        "id": "C0M9XlG20ATq"
      }
    },
    {
      "cell_type": "markdown",
      "source": [
        "### Nama Anggota Kelompok\n",
        "```\n",
        "121140044   Ahmad Dwiky Zerro Dixxon\n",
        "121140067   Daris Fikri Zhalifunnas\n",
        "121140098   Benedictus Budhi Dharmawan\n",
        "```"
      ],
      "metadata": {
        "id": "3WjjfxXH0F8r"
      }
    },
    {
      "cell_type": "markdown",
      "source": [
        "# Pengenalan KMeans Clustering\n",
        "\n",
        ">Algoritma Unsupervised Learning umumnya dibagi menjadi dua tipe: Supervised learning dan Unsupervised learning. Namun, sebagian besar algoritma diklasifikasikan sebagai Supervised learning dan Unsupervised learning. Perbedaan di antara keduanya disebabkan oleh keberadaan variabel target. Tidak ada variabel target dalam pembelajaran tanpa pengawasan. Dataset hanya berisi variabel input yang menggambarkan data. Ini dikenal sebagai Unsupervised learning.\n",
        "\n",
        "-\n",
        ">Algoritma pembelajaran tanpa pengawasan yang paling sering digunakan adalah K-Means clustering. Ini digunakan ketika kita memiliki data tanpa label, yaitu data yang tidak memiliki kategori atau kelompok yang jelas. Teknik ini menggunakan metode yang sederhana atau dasar untuk mengelompokkan suatu set data dengan jumlah cluster yang telah ditentukan. Berdasarkan atribut yang diberikan, algoritma K-Means secara iteratif menetapkan setiap titik data ke salah satu dari K kelompok. Pengelompokan titik data didasarkan pada kemiripan fitur."
      ],
      "metadata": {
        "id": "IKnRnADm174A"
      }
    },
    {
      "cell_type": "code",
      "execution_count": null,
      "metadata": {
        "id": "OlsTz5FWy0dp"
      },
      "outputs": [],
      "source": [
        "# This Python 3 environment comes with many helpful analytics libraries installed\n",
        "# It is defined by the kaggle/python docker image: https://github.com/kaggle/docker-python\n",
        "# For example, here's several helpful packages to load in\n",
        "\n",
        "#import the libraries\n",
        "import numpy as np # linear algebra\n",
        "import pandas as pd # data processing, CSV file I/O (e.g. pd.read_csv)\n",
        "import matplotlib.pyplot as plt #Data Visualization\n",
        "import seaborn as sns  #Python library for Vidualization\n",
        "\n",
        "\n",
        "# Input data files are available in the \"../input/\" directory.\n",
        "# For example, running this (by clicking run or pressing Shift+Enter) will list the files in the input directory\n",
        "\n",
        "import os\n",
        "print(os.listdir(\"../input\"))\n",
        "\n",
        "# Any results you write to the current directory are saved as output."
      ]
    },
    {
      "cell_type": "code",
      "source": [
        "#Import the dataset\n",
        "\n",
        "dataset = pd.read_csv('../input/Mall_Customers.csv')\n",
        "\n",
        "#Exploratory Data Analysis\n",
        "#As this is unsupervised learning so Label (Output Column) is unknown\n",
        "\n",
        "dataset.head(10) #Printing first 10 rows of the dataset"
      ],
      "metadata": {
        "id": "ZBLtfAwi4gWC"
      },
      "execution_count": null,
      "outputs": []
    },
    {
      "cell_type": "code",
      "source": [
        "#total rows and colums in the dataset\n",
        "dataset.shape"
      ],
      "metadata": {
        "id": "T1drFzC_4mUx"
      },
      "execution_count": null,
      "outputs": []
    },
    {
      "cell_type": "code",
      "source": [
        "dataset.info(10) # there are no missing values as all the columns has 200 entries properly"
      ],
      "metadata": {
        "id": "EeipQOP24mfp"
      },
      "execution_count": null,
      "outputs": []
    },
    {
      "cell_type": "code",
      "source": [
        "#Missing values computation\n",
        "dataset.isnull().sum()"
      ],
      "metadata": {
        "id": "ELSEymqV4mn7"
      },
      "execution_count": null,
      "outputs": []
    },
    {
      "cell_type": "code",
      "source": [
        "### Feature sleection for the model\n",
        "#Considering only 2 features (Annual income and Spending Score) and no Label available\n",
        "X= dataset.iloc[:, [3,4]].values"
      ],
      "metadata": {
        "id": "S4XN_NVA4yHY"
      },
      "execution_count": null,
      "outputs": []
    },
    {
      "cell_type": "code",
      "source": [
        "#Building the Model\n",
        "#KMeans Algorithm to decide the optimum cluster number , KMeans++ using Elbow Mmethod\n",
        "#to figure out K for KMeans, I will use ELBOW Method on KMEANS++ Calculation\n",
        "from sklearn.cluster import KMeans\n",
        "wcss=[]\n",
        "\n",
        "#we always assume the max number of cluster would be 10\n",
        "#you can judge the number of clusters by doing averaging\n",
        "###Static code to get max no of clusters\n",
        "\n",
        "for i in range(1,11):\n",
        "    kmeans = KMeans(n_clusters= i, init='k-means++', random_state=0)\n",
        "    kmeans.fit(X)\n",
        "    wcss.append(kmeans.inertia_)\n",
        "\n",
        "    #inertia_ is the formula used to segregate the data points into clusters"
      ],
      "metadata": {
        "id": "N3HbR50e4yKF"
      },
      "execution_count": null,
      "outputs": []
    },
    {
      "cell_type": "code",
      "source": [
        "#Visualizing the ELBOW method to get the optimal value of K\n",
        "plt.plot(range(1,11), wcss)\n",
        "plt.title('The Elbow Method')\n",
        "plt.xlabel('no of clusters')\n",
        "plt.ylabel('wcss')\n",
        "plt.show()"
      ],
      "metadata": {
        "id": "URRJZjac4yNL"
      },
      "execution_count": null,
      "outputs": []
    },
    {
      "cell_type": "code",
      "source": [
        "#If you zoom out this curve then you will see that last elbow comes at k=5\n",
        "#no matter what range we select ex- (1,21) also i will see the same behaviour but if we chose higher range it is little difficult to visualize the ELBOW\n",
        "#that is why we usually prefer range (1,11)\n",
        "##Finally we got that k=5\n",
        "\n",
        "#Model Build\n",
        "kmeansmodel = KMeans(n_clusters= 5, init='k-means++', random_state=0)\n",
        "y_kmeans= kmeansmodel.fit_predict(X)\n",
        "\n",
        "#For unsupervised learning we use \"fit_predict()\" wherein for supervised learning we use \"fit_tranform()\"\n",
        "#y_kmeans is the final model . Now how and where we will deploy this model in production is depends on what tool we are using.\n",
        "#This use case is very common and it is used in BFS industry(credit card) and retail for customer segmenattion."
      ],
      "metadata": {
        "id": "AKUqETDH4ybf"
      },
      "execution_count": null,
      "outputs": []
    },
    {
      "cell_type": "code",
      "source": [
        "#Visualizing all the clusters\n",
        "\n",
        "plt.scatter(X[y_kmeans == 0, 0], X[y_kmeans == 0, 1], s = 100, c = 'red', label = 'Cluster 1')\n",
        "plt.scatter(X[y_kmeans == 1, 0], X[y_kmeans == 1, 1], s = 100, c = 'blue', label = 'Cluster 2')\n",
        "plt.scatter(X[y_kmeans == 2, 0], X[y_kmeans == 2, 1], s = 100, c = 'green', label = 'Cluster 3')\n",
        "plt.scatter(X[y_kmeans == 3, 0], X[y_kmeans == 3, 1], s = 100, c = 'cyan', label = 'Cluster 4')\n",
        "plt.scatter(X[y_kmeans == 4, 0], X[y_kmeans == 4, 1], s = 100, c = 'magenta', label = 'Cluster 5')\n",
        "plt.scatter(kmeans.cluster_centers_[:, 0], kmeans.cluster_centers_[:, 1], s = 300, c = 'yellow', label = 'Centroids')\n",
        "plt.title('Clusters of customers')\n",
        "plt.xlabel('Annual Income (k$)')\n",
        "plt.ylabel('Spending Score (1-100)')\n",
        "plt.legend()\n",
        "plt.show()"
      ],
      "metadata": {
        "id": "QX41HWAB4ygu"
      },
      "execution_count": null,
      "outputs": []
    },
    {
      "cell_type": "code",
      "source": [],
      "metadata": {
        "id": "LHd5tVN25CD_"
      },
      "execution_count": null,
      "outputs": []
    },
    {
      "cell_type": "markdown",
      "source": [
        "###Model Interpretation\n",
        "#Cluster 1 (Red Color) -> earning high but spending less\n",
        "#cluster 2 (Blue Colr) -> average in terms of earning and spending\n",
        "#cluster 3 (Green Color) -> earning high and also spending high [TARGET SET]\n",
        "#cluster 4 (cyan Color) -> earning less but spending more\n",
        "#Cluster 5 (magenta Color) -> Earning less , spending less\n",
        "\n",
        "\n",
        "######We can put Cluster 3 into some alerting system where email can be send to them on daily basis as these re easy to converse ######\n",
        "#wherein others we can set like once in a week or once in a month\n",
        "\n",
        "# Thank you and please upvote for the motivation"
      ],
      "metadata": {
        "id": "lPHIso4o5E2g"
      }
    }
  ]
}